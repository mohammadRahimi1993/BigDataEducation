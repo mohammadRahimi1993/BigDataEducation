{
  "cells": [
    {
      "cell_type": "markdown",
      "metadata": {
        "id": "view-in-github",
        "colab_type": "text"
      },
      "source": [
        "<a href=\"https://colab.research.google.com/github/mohammadRahimi1993/BigDataEducation/blob/main/MapReduce_Site.ipynb\" target=\"_parent\"><img src=\"https://colab.research.google.com/assets/colab-badge.svg\" alt=\"Open In Colab\"/></a>"
      ]
    },
    {
      "cell_type": "code",
      "execution_count": null,
      "metadata": {
        "colab": {
          "base_uri": "https://localhost:8080/"
        },
        "id": "lt0ioS_owHK6",
        "outputId": "a029d96e-6a8f-4299-fafb-4913d3d4cacf"
      },
      "outputs": [
        {
          "output_type": "stream",
          "name": "stdout",
          "text": [
            "Mounted at /content/drive\n"
          ]
        }
      ],
      "source": [
        "from google.colab import drive\n",
        "drive.mount('/content/drive')"
      ]
    },
    {
      "cell_type": "code",
      "source": [
        "# install java\n",
        "!apt-get install openjdk-8-jdk-headless -qq > /dev/null\n",
        "\n",
        "# install spark (change the version number if needed)\n",
        "!wget -q https://archive.apache.org/dist/spark/spark-3.0.0/spark-3.0.0-bin-hadoop3.2.tgz\n",
        "\n",
        "# unzip the spark file to the current folder\n",
        "!tar xf spark-3.0.0-bin-hadoop3.2.tgz\n",
        "\n",
        "# set your spark folder to your system path environment. \n",
        "import os\n",
        "os.environ[\"JAVA_HOME\"] = \"/usr/lib/jvm/java-8-openjdk-amd64\"\n",
        "os.environ[\"SPARK_HOME\"] = \"/content/spark-3.0.0-bin-hadoop3.2\"\n",
        "\n",
        "\n",
        "# install findspark using pip\n",
        "!pip install -q findspark"
      ],
      "metadata": {
        "id": "doLpwfx8wQp4"
      },
      "execution_count": 1,
      "outputs": []
    },
    {
      "cell_type": "code",
      "source": [
        "import findspark\n",
        "findspark.init()\n",
        "\n",
        "from pyspark.sql import SparkSession\n",
        "spark = SparkSession.builder.master(\"local[1]\") \\\n",
        "    .appName(\"WordCount\").getOrCreate()"
      ],
      "metadata": {
        "id": "iCIEbwMDxE2r"
      },
      "execution_count": 2,
      "outputs": []
    },
    {
      "cell_type": "code",
      "source": [
        "data=[(1,\"World Cup recap, day 10: US defeat Iran, England wallop Wales, England wallop Wales\"),\n",
        "      (2,\"Pulisic strike earns USA a place in the World Cup last 16, in the World Cup last 16\"),\n",
        "      (3,\"Stowaways travel from Nigeria to Canary Islands on ship’s rudder, in the World Cup last 16\")]\n",
        "RDD = spark.sparkContext.parallelize(data)\n",
        "RDD.collect()"
      ],
      "metadata": {
        "colab": {
          "base_uri": "https://localhost:8080/"
        },
        "id": "tb9ta9Sgwmbn",
        "outputId": "b2911c7a-71ee-4e83-8ce1-aa3ad2cd5f2c"
      },
      "execution_count": 8,
      "outputs": [
        {
          "output_type": "execute_result",
          "data": {
            "text/plain": [
              "[(1,\n",
              "  'World Cup recap, day 10: US defeat Iran, England wallop Wales, England wallop Wales'),\n",
              " (2,\n",
              "  'Pulisic strike earns USA a place in the World Cup last 16, in the World Cup last 16'),\n",
              " (3,\n",
              "  'Stowaways travel from Nigeria to Canary Islands on ship’s rudder, in the World Cup last 16')]"
            ]
          },
          "metadata": {},
          "execution_count": 8
        }
      ]
    },
    {
      "cell_type": "code",
      "source": [
        "RDD_Map = RDD.flatMap(lambda x: [((x[0],word),1) for word in x[1].split()])\n",
        "RDD_Map.take(15)"
      ],
      "metadata": {
        "colab": {
          "base_uri": "https://localhost:8080/"
        },
        "id": "y4fTC__Myz2l",
        "outputId": "e4c4c1eb-1963-413d-9cc1-58a147d3fb7a"
      },
      "execution_count": 9,
      "outputs": [
        {
          "output_type": "execute_result",
          "data": {
            "text/plain": [
              "[((1, 'World'), 1),\n",
              " ((1, 'Cup'), 1),\n",
              " ((1, 'recap,'), 1),\n",
              " ((1, 'day'), 1),\n",
              " ((1, '10:'), 1),\n",
              " ((1, 'US'), 1),\n",
              " ((1, 'defeat'), 1),\n",
              " ((1, 'Iran,'), 1),\n",
              " ((1, 'England'), 1),\n",
              " ((1, 'wallop'), 1),\n",
              " ((1, 'Wales,'), 1),\n",
              " ((1, 'England'), 1),\n",
              " ((1, 'wallop'), 1),\n",
              " ((1, 'Wales'), 1),\n",
              " ((2, 'Pulisic'), 1)]"
            ]
          },
          "metadata": {},
          "execution_count": 9
        }
      ]
    },
    {
      "cell_type": "code",
      "source": [
        "RDD_Reduce = RDD_Map.reduceByKey(lambda x,y:x+y)\n",
        "RDD_Reduce.collect()"
      ],
      "metadata": {
        "colab": {
          "base_uri": "https://localhost:8080/"
        },
        "id": "Gpl20R3a0BrA",
        "outputId": "b1d4c227-cc24-4925-d70d-c69c426f5115"
      },
      "execution_count": null,
      "outputs": [
        {
          "output_type": "execute_result",
          "data": {
            "text/plain": [
              "[((1, 'Cup'), 1),\n",
              " ((1, 'day'), 1),\n",
              " ((1, 'US'), 1),\n",
              " ((1, 'England'), 2),\n",
              " ((1, 'wallop'), 2),\n",
              " ((1, 'Wales,'), 1),\n",
              " ((1, 'Wales'), 1),\n",
              " ((2, 'USA'), 1),\n",
              " ((2, 'in'), 2),\n",
              " ((2, 'World'), 2),\n",
              " ((2, 'last'), 2),\n",
              " ((2, '16,'), 1),\n",
              " ((2, '16'), 1),\n",
              " ((3, 'travel'), 1),\n",
              " ((3, 'from'), 1),\n",
              " ((3, 'to'), 1),\n",
              " ((3, 'Canary'), 1),\n",
              " ((3, 'on'), 1),\n",
              " ((3, 'ship’s'), 1),\n",
              " ((3, 'rudder,'), 1),\n",
              " ((3, 'the'), 1),\n",
              " ((3, 'Cup'), 1),\n",
              " ((1, 'World'), 1),\n",
              " ((1, 'recap,'), 1),\n",
              " ((1, '10:'), 1),\n",
              " ((1, 'defeat'), 1),\n",
              " ((1, 'Iran,'), 1),\n",
              " ((2, 'Pulisic'), 1),\n",
              " ((2, 'strike'), 1),\n",
              " ((2, 'earns'), 1),\n",
              " ((2, 'a'), 1),\n",
              " ((2, 'place'), 1),\n",
              " ((2, 'the'), 2),\n",
              " ((2, 'Cup'), 2),\n",
              " ((3, 'Stowaways'), 1),\n",
              " ((3, 'Nigeria'), 1),\n",
              " ((3, 'Islands'), 1),\n",
              " ((3, 'in'), 1),\n",
              " ((3, 'World'), 1),\n",
              " ((3, 'last'), 1),\n",
              " ((3, '16'), 1)]"
            ]
          },
          "metadata": {},
          "execution_count": 25
        }
      ]
    }
  ],
  "metadata": {
    "colab": {
      "provenance": [],
      "authorship_tag": "ABX9TyMJqU3e2xeX4roB0k9GMlz4",
      "include_colab_link": true
    },
    "kernelspec": {
      "display_name": "Python 3",
      "name": "python3"
    },
    "language_info": {
      "name": "python"
    }
  },
  "nbformat": 4,
  "nbformat_minor": 0
}